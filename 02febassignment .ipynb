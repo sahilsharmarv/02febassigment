{
 "cells": [
  {
   "cell_type": "code",
   "execution_count": null,
   "id": "d9d76c6a-b59a-4c95-9eb0-9b4984027f8e",
   "metadata": {},
   "outputs": [],
   "source": [
    "Q1. Explain with an example each when to use a for loop and a while loop.\n",
    "ANS.\n",
    "\n",
    "FOR loop : Basically for loop is used when we know how many times statement is executed.\n",
    "           Initialization may be either inside the loop or outside the loop.\n",
    "           Once the statement is executed then after increment is done.\n",
    "           It is used when initialization and increment is simple.\n",
    "           It is a single line command that will be executed repeatedly.\n",
    "        \n",
    "While loop : While loop is used when we dont know how many times statement is executed.\n",
    "             Initialization always outside the loop.\n",
    "             Increment can be done after and before execution of statement.\n",
    "             It is used when initialization is complex.\n",
    "             It is single line or contain multiple commands for a single condition"
   ]
  },
  {
   "cell_type": "code",
   "execution_count": 2,
   "id": "ac5b5408-d633-408e-b20e-f2039037ee54",
   "metadata": {},
   "outputs": [
    {
     "name": "stdout",
     "output_type": "stream",
     "text": [
      "1\n",
      "2\n",
      "3\n",
      "4\n"
     ]
    }
   ],
   "source": [
    "# example of for loop\n",
    "for i in range(1,5):\n",
    "    print(i)"
   ]
  },
  {
   "cell_type": "code",
   "execution_count": 5,
   "id": "e113a47f-c715-4b52-984a-40b04e24eb80",
   "metadata": {},
   "outputs": [
    {
     "name": "stdout",
     "output_type": "stream",
     "text": [
      "0\n",
      "1\n",
      "2\n",
      "3\n",
      "4\n"
     ]
    }
   ],
   "source": [
    "# example of while loop  \n",
    "i = 0\n",
    "while (i<5):\n",
    "    print(i)\n",
    "    i = i + 1"
   ]
  },
  {
   "cell_type": "code",
   "execution_count": null,
   "id": "52f18d22-7994-42d0-9982-b577ccd474b5",
   "metadata": {},
   "outputs": [],
   "source": [
    "Q2. Write a python program to print the sum and product of the first 10 natural numbers using for\n",
    "and while loop."
   ]
  },
  {
   "cell_type": "code",
   "execution_count": 12,
   "id": "964cb5f5-c359-4284-aa10-289c6599e03a",
   "metadata": {},
   "outputs": [
    {
     "name": "stdout",
     "output_type": "stream",
     "text": [
      "1\n",
      "3\n",
      "6\n",
      "10\n",
      "15\n",
      "21\n",
      "28\n",
      "36\n",
      "45\n",
      "55\n"
     ]
    }
   ],
   "source": [
    "# Using for loop print the sum of first 10 natural numbers\n",
    "summ = 0\n",
    "for i in range(1,11): # because range always goes from n to (n-1)\n",
    "    summ = summ + i\n",
    "    print(summ)"
   ]
  },
  {
   "cell_type": "code",
   "execution_count": 1,
   "id": "cc0af1d1-4321-4317-9d20-32343b4da68f",
   "metadata": {},
   "outputs": [
    {
     "name": "stdout",
     "output_type": "stream",
     "text": [
      "1\n",
      "3\n",
      "6\n",
      "10\n",
      "15\n",
      "21\n",
      "28\n",
      "36\n",
      "45\n",
      "55\n"
     ]
    }
   ],
   "source": [
    "# Using while loop to print the sum of first 10 natural numbers\n",
    "summ = 0\n",
    "i = 1\n",
    "while(i<=10):\n",
    "    summ = summ + i\n",
    "    print(summ)\n",
    "    i = i+1"
   ]
  },
  {
   "cell_type": "code",
   "execution_count": 3,
   "id": "95894012-3079-4f2e-b4cf-5d50ae92c144",
   "metadata": {},
   "outputs": [
    {
     "name": "stdout",
     "output_type": "stream",
     "text": [
      "1\n",
      "2\n",
      "6\n",
      "24\n",
      "120\n",
      "720\n",
      "5040\n",
      "40320\n",
      "362880\n",
      "3628800\n"
     ]
    }
   ],
   "source": [
    "# Using for loop to print the product of first 10 natural numbers \n",
    "product = 1\n",
    "for i in range (1,11):\n",
    "    product = product * i\n",
    "    print(product)\n",
    "    "
   ]
  },
  {
   "cell_type": "code",
   "execution_count": 4,
   "id": "7e7dc835-24ee-48ca-a136-5515f9ac4ebf",
   "metadata": {},
   "outputs": [
    {
     "name": "stdout",
     "output_type": "stream",
     "text": [
      "1\n",
      "2\n",
      "6\n",
      "24\n",
      "120\n",
      "720\n",
      "5040\n",
      "40320\n",
      "362880\n",
      "3628800\n"
     ]
    }
   ],
   "source": [
    "# Using while loop to print the product of first 10 natural nunbers\n",
    "product = 1\n",
    "i = 1\n",
    "while (i<=10):\n",
    "    product = product * i\n",
    "    print(product)\n",
    "    i = i + 1"
   ]
  },
  {
   "cell_type": "code",
   "execution_count": null,
   "id": "e9856995-332d-4f1f-9da5-cd04199dfd50",
   "metadata": {},
   "outputs": [],
   "source": [
    "Q3. Create a python program to compute the electricity bill for a household.The per-unit charges in rupees are as follows: For the first 100 units, the user will be charged Rs. 4.5 per\n",
    "unit, for the next 100 units, the user will be charged Rs. 6 per unit, and for the next 100 units, the user will\n",
    "be charged Rs. 10 per unit, After 300 units and above the user will be charged Rs. 20 per unit.\n",
    "You are required to take the units of electricity consumed in a month from the user as input.\n",
    "Your program must pass this test case: when the unit of electricity consumed by the user in a month is\n",
    "310, the total electricity bill should be 2250."
   ]
  },
  {
   "cell_type": "code",
   "execution_count": 5,
   "id": "df12cf08-b9cc-4ab5-ae1e-c502ea0b3b3d",
   "metadata": {},
   "outputs": [
    {
     "name": "stdin",
     "output_type": "stream",
     "text": [
      "Enter units of electricity consumed:  310\n"
     ]
    },
    {
     "name": "stdout",
     "output_type": "stream",
     "text": [
      "Total electricity bill: Rs.  2250.0\n"
     ]
    }
   ],
   "source": [
    "units = int(input(\"Enter units of electricity consumed: \"))\n",
    "total_bill = 0\n",
    "\n",
    "if units <= 100:\n",
    "    total_bill = units * 4.5\n",
    "elif units <= 200:\n",
    "    total_bill = 100 * 4.5 + (units - 100) * 6\n",
    "elif units <= 300:\n",
    "    total_bill = 100 * 4.5 + 100 * 6 + (units - 200) * 10\n",
    "else:\n",
    "    total_bill = 100 * 4.5 + 100 * 6 + 100 * 10 + (units - 300) * 20\n",
    "\n",
    "print(\"Total electricity bill: Rs. \", total_bill)\n"
   ]
  },
  {
   "cell_type": "code",
   "execution_count": null,
   "id": "2b4b06a2-a8a2-4ccf-8dc4-0a4dc786bd8c",
   "metadata": {},
   "outputs": [],
   "source": [
    "Q4. Create a list of numbers from 1 to 100. Use for loop and while loop to calculate the cube of each\n",
    "number and if the cube of that number is divisible by 4 or 5 then append that number in a list and print\n",
    "that list."
   ]
  },
  {
   "cell_type": "code",
   "execution_count": 7,
   "id": "e90456a3-f44b-472b-a334-5628374e32b1",
   "metadata": {},
   "outputs": [
    {
     "name": "stdout",
     "output_type": "stream",
     "text": [
      "[10, 20, 30, 40, 50, 60, 70, 80, 90, 100]\n"
     ]
    }
   ],
   "source": [
    "# Using for loop\n",
    "list = []\n",
    "for num in range (1,101):\n",
    "    cube = num**3\n",
    "    if cube%4==0 and cube%5==0:\n",
    "        list.append(num)\n",
    "print(list)"
   ]
  },
  {
   "cell_type": "code",
   "execution_count": 8,
   "id": "427b906b-7fdc-40e8-9f6f-d0031b5dfca0",
   "metadata": {},
   "outputs": [
    {
     "name": "stdout",
     "output_type": "stream",
     "text": [
      "[10, 20, 30, 40, 50, 60, 70, 80, 90, 100]\n"
     ]
    }
   ],
   "source": [
    "# Using while loop\n",
    "list = []\n",
    "num = 1\n",
    "while num<=100:\n",
    "    cube = num**3\n",
    "    if cube%4==0 and cube%5==0:\n",
    "        list.append(num)\n",
    "    num = num + 1\n",
    "print(list)"
   ]
  },
  {
   "cell_type": "code",
   "execution_count": null,
   "id": "4a212bd4-f973-42a6-b9e4-032012ce89d4",
   "metadata": {},
   "outputs": [],
   "source": [
    "Q5. Write a program to filter count vowels in the below-given string.\n",
    "string = \"I want to become a data scientist\""
   ]
  },
  {
   "cell_type": "code",
   "execution_count": 10,
   "id": "31fd994b-24e6-4031-8ea5-74cab4bdbb06",
   "metadata": {},
   "outputs": [
    {
     "name": "stdout",
     "output_type": "stream",
     "text": [
      "Number of vowels: 12\n"
     ]
    }
   ],
   "source": [
    "s = 'I want to become a data scientist'\n",
    "s = s.lower()\n",
    "vowels = ['a' , 'e' , 'i' , 'o' , 'u']\n",
    "count = 0\n",
    "for char in s:\n",
    "    if char in vowels:\n",
    "        count += 1\n",
    "print(\"Number of vowels:\", count)\n"
   ]
  },
  {
   "cell_type": "code",
   "execution_count": null,
   "id": "3b3fa58b-180e-4517-b4a8-8ed47a016a10",
   "metadata": {},
   "outputs": [],
   "source": []
  }
 ],
 "metadata": {
  "kernelspec": {
   "display_name": "Python 3 (ipykernel)",
   "language": "python",
   "name": "python3"
  },
  "language_info": {
   "codemirror_mode": {
    "name": "ipython",
    "version": 3
   },
   "file_extension": ".py",
   "mimetype": "text/x-python",
   "name": "python",
   "nbconvert_exporter": "python",
   "pygments_lexer": "ipython3",
   "version": "3.10.8"
  }
 },
 "nbformat": 4,
 "nbformat_minor": 5
}
